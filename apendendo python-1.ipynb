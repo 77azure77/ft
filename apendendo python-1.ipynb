{
  "nbformat": 4,
  "nbformat_minor": 0,
  "metadata": {
    "colab": {
      "name": "Untitled0.ipynb",
      "provenance": [],
      "authorship_tag": "ABX9TyM/NmK4FNm85B39n1Irhx4S",
      "include_colab_link": true
    },
    "kernelspec": {
      "name": "python3",
      "display_name": "Python 3"
    },
    "language_info": {
      "name": "python"
    }
  },
  "cells": [
    {
      "cell_type": "markdown",
      "metadata": {
        "id": "view-in-github",
        "colab_type": "text"
      },
      "source": [
        "<a href=\"https://colab.research.google.com/github/77azure77/ft/blob/main/apendendo%20python-1.ipynb\" target=\"_parent\"><img src=\"https://colab.research.google.com/assets/colab-badge.svg\" alt=\"Open In Colab\"/></a>"
      ]
    },
    {
      "cell_type": "markdown",
      "metadata": {
        "id": "w5htiWmVNmBm"
      },
      "source": [
        "# codigos de nomes e idades"
      ]
    },
    {
      "cell_type": "code",
      "metadata": {
        "colab": {
          "base_uri": "https://localhost:8080/"
        },
        "id": "zQ5WTBIGrZet",
        "outputId": "bce55bcb-5576-4c83-894a-12ee05bd41e2"
      },
      "source": [
        "nome = \"michael\"\n",
        "print(nome)"
      ],
      "execution_count": null,
      "outputs": [
        {
          "output_type": "stream",
          "name": "stdout",
          "text": [
            "michael\n"
          ]
        }
      ]
    },
    {
      "cell_type": "code",
      "metadata": {
        "colab": {
          "base_uri": "https://localhost:8080/",
          "height": 35
        },
        "id": "0JtoCOL8yQBu",
        "outputId": "f05e704c-8260-4130-d45a-01e10a8033fc"
      },
      "source": [
        "nome = \"henrique\"\n",
        "nome"
      ],
      "execution_count": null,
      "outputs": [
        {
          "output_type": "execute_result",
          "data": {
            "application/vnd.google.colaboratory.intrinsic+json": {
              "type": "string"
            },
            "text/plain": [
              "'henrique'"
            ]
          },
          "metadata": {},
          "execution_count": 279
        }
      ]
    },
    {
      "cell_type": "code",
      "metadata": {
        "colab": {
          "base_uri": "https://localhost:8080/"
        },
        "id": "wTnhc88xyZVE",
        "outputId": "fde27114-a26b-40a0-c9d2-7f654966ca6f"
      },
      "source": [
        "idade = 40\n",
        "print(\"idade:\", idade)"
      ],
      "execution_count": null,
      "outputs": [
        {
          "output_type": "stream",
          "name": "stdout",
          "text": [
            "idade: 40\n"
          ]
        }
      ]
    },
    {
      "cell_type": "code",
      "metadata": {
        "colab": {
          "base_uri": "https://localhost:8080/"
        },
        "id": "mVTC1-38yeHX",
        "outputId": "fc366a02-eb83-4590-80dd-707448db990c"
      },
      "source": [
        "idade + 4"
      ],
      "execution_count": null,
      "outputs": [
        {
          "output_type": "execute_result",
          "data": {
            "text/plain": [
              "44"
            ]
          },
          "metadata": {},
          "execution_count": 26
        }
      ]
    },
    {
      "cell_type": "markdown",
      "metadata": {
        "id": "tNuivCTbQNEj"
      },
      "source": [
        "codigo que soma a idade anterior com 1"
      ]
    },
    {
      "cell_type": "code",
      "metadata": {
        "id": "Y2rFnmAeymnC",
        "colab": {
          "base_uri": "https://localhost:8080/"
        },
        "outputId": "84d5b28f-2bed-4a38-ce60-68db56be24d1"
      },
      "source": [
        "def mais_um_ano(a):\n",
        "  print('essa idade com mais um ano é ')\n",
        "  return idade + 1\n",
        "\n",
        "mais_um_ano(a)"
      ],
      "execution_count": null,
      "outputs": [
        {
          "output_type": "stream",
          "name": "stdout",
          "text": [
            "essa idade com mais um ano é \n"
          ]
        },
        {
          "output_type": "execute_result",
          "data": {
            "text/plain": [
              "41"
            ]
          },
          "metadata": {},
          "execution_count": 280
        }
      ]
    },
    {
      "cell_type": "markdown",
      "metadata": {
        "id": "oNSv3-HOQEb4"
      },
      "source": [
        "codigo que pergunta duas idades e as soma"
      ]
    },
    {
      "cell_type": "code",
      "metadata": {
        "colab": {
          "base_uri": "https://localhost:8080/"
        },
        "id": "6d7662UzO7QN",
        "outputId": "f97971a6-cb4b-4ead-963e-f412f4bdcfc9"
      },
      "source": [
        "def mais_um_ano():\n",
        "  idade1 = int(input(\"coloque uma idade \"))\n",
        "  idade2 = int(input(\"coloque outra idade \"))\n",
        "  s = idade1 + idade2\n",
        "  print('essa idade com mais um ano é ')\n",
        "  print(s)\n",
        "  \n",
        "mais_um_ano()"
      ],
      "execution_count": null,
      "outputs": [
        {
          "output_type": "stream",
          "name": "stdout",
          "text": [
            "coloque uma idade 1\n",
            "coloque outra idade 1\n",
            "essa idade com mais um ano é \n",
            "2\n"
          ]
        }
      ]
    },
    {
      "cell_type": "markdown",
      "metadata": {
        "id": "0ALfvnKiP88r"
      },
      "source": [
        "# codigo sobre filmes"
      ]
    },
    {
      "cell_type": "code",
      "metadata": {
        "colab": {
          "base_uri": "https://localhost:8080/"
        },
        "id": "Nznr_fc02W_f",
        "outputId": "b2275e13-d4c2-4ebe-ee7c-b7069b5051f8"
      },
      "source": [
        "filmes = [\"toy store 17\", \"a xuxa contra o baixa astral\", \"matrix 1\"]\n",
        "print(filmes)"
      ],
      "execution_count": null,
      "outputs": [
        {
          "output_type": "stream",
          "name": "stdout",
          "text": [
            "['toy store 17', 'a xuxa contra o baixa astral', 'matrix 1']\n"
          ]
        }
      ]
    },
    {
      "cell_type": "code",
      "metadata": {
        "id": "KeZUaN3d32S1",
        "colab": {
          "base_uri": "https://localhost:8080/"
        },
        "outputId": "c7dc1750-e785-4192-8ab4-1ef68630e080"
      },
      "source": [
        "def imprime_filmes():\n",
        "  print(\"a lista de filmes que eu tenho disponivel\")\n",
        "  print(filmes)\n",
        "imprime_filmes()"
      ],
      "execution_count": null,
      "outputs": [
        {
          "output_type": "stream",
          "name": "stdout",
          "text": [
            "a lista de filmes que eu tenho disponivel\n",
            "['toy store 17', 'a xuxa contra o baixa astral', 'matrix 1']\n"
          ]
        }
      ]
    },
    {
      "cell_type": "markdown",
      "metadata": {
        "id": "ZLucZt3eZ1Af"
      },
      "source": [
        "testando como chamar algo especifico dos dados de uma lista"
      ]
    },
    {
      "cell_type": "code",
      "metadata": {
        "colab": {
          "base_uri": "https://localhost:8080/"
        },
        "id": "wrWHcqSn6tsE",
        "outputId": "0ed242d9-00d2-4fec-d3f0-d50479a96465"
      },
      "source": [
        "def primeiro_segundo():\n",
        "  f = filmes[-3]\n",
        "  b = filmes[-2]\n",
        "  print()\n",
        "  print()\n",
        "primeiro_segundo()"
      ],
      "execution_count": null,
      "outputs": [
        {
          "output_type": "stream",
          "name": "stdout",
          "text": [
            "\n",
            "\n"
          ]
        }
      ]
    },
    {
      "cell_type": "code",
      "metadata": {
        "colab": {
          "base_uri": "https://localhost:8080/"
        },
        "id": "PADbR9aC7Yos",
        "outputId": "6038a20a-0508-4745-dd66-0e9d19a759fb"
      },
      "source": [
        "filmes[1:]"
      ],
      "execution_count": null,
      "outputs": [
        {
          "output_type": "execute_result",
          "data": {
            "text/plain": [
              "['a xuxa contra o baixa astral', 'matrix 1']"
            ]
          },
          "metadata": {},
          "execution_count": 12
        }
      ]
    },
    {
      "cell_type": "code",
      "metadata": {
        "colab": {
          "base_uri": "https://localhost:8080/"
        },
        "id": "X0-gtlRQ7fcu",
        "outputId": "ad2f72e0-b5aa-4408-f638-73ffa2883e00"
      },
      "source": [
        "for filme in filmes:\n",
        "  print(filme)"
      ],
      "execution_count": null,
      "outputs": [
        {
          "output_type": "stream",
          "name": "stdout",
          "text": [
            "toy store 17\n",
            "a xuxa contra o baixa astral\n",
            "matrix 1\n"
          ]
        }
      ]
    },
    {
      "cell_type": "code",
      "metadata": {
        "id": "kKxxF6hJ-rMe"
      },
      "source": [
        "def imprime_filmes(filmes_que_quero_imprimir):\n",
        "  print(\"a lista de filmes que eu tenho disponivel\")\n",
        "  for filme in filmes_que_quero_imprimir:\n",
        "    print(filme)"
      ],
      "execution_count": null,
      "outputs": []
    },
    {
      "cell_type": "code",
      "metadata": {
        "colab": {
          "base_uri": "https://localhost:8080/"
        },
        "id": "h2yNhJlI-wPh",
        "outputId": "871d1110-b941-4a72-c60f-d734dc93fe42"
      },
      "source": [
        "imprime_filmes(filmes)"
      ],
      "execution_count": null,
      "outputs": [
        {
          "output_type": "stream",
          "name": "stdout",
          "text": [
            "a lista de filmes que eu tenho disponivel\n",
            "toy store 17\n",
            "a xuxa contra o baixa astral\n",
            "matrix 1\n"
          ]
        }
      ]
    }
  ]
}